{
  "nbformat": 4,
  "nbformat_minor": 0,
  "metadata": {
    "colab": {
      "provenance": [],
      "include_colab_link": true
    },
    "kernelspec": {
      "name": "python3",
      "display_name": "Python 3"
    },
    "language_info": {
      "name": "python"
    }
  },
  "cells": [
    {
      "cell_type": "markdown",
      "metadata": {
        "id": "view-in-github",
        "colab_type": "text"
      },
      "source": [
        "<a href=\"https://colab.research.google.com/github/2905-mrin/ML_F_PES2UG23CS353_Mrinal/blob/main/ML_Week3_PES2UG23CS353_Mrinal.ipynb\" target=\"_parent\"><img src=\"https://colab.research.google.com/assets/colab-badge.svg\" alt=\"Open In Colab\"/></a>"
      ]
    },
    {
      "cell_type": "code",
      "execution_count": null,
      "metadata": {
        "colab": {
          "base_uri": "https://localhost:8080/"
        },
        "id": "9PNebnTTyjhG",
        "outputId": "34004387-c07a-44b6-b179-352a89761892"
      },
      "outputs": [
        {
          "output_type": "stream",
          "name": "stdout",
          "text": [
            "Writing PES_F_PES2UG23CS353_Lab3.py\n"
          ]
        }
      ],
      "source": [
        "%%writefile PES_F_PES2UG23CS353_Lab3.py\n",
        "\n",
        "\n",
        "import numpy as np\n",
        "import pandas as pd\n",
        "\n",
        "def get_entropy_of_dataset(data):\n",
        "    \"\"\"\n",
        "    Calculates the entropy of the entire dataset.\n",
        "    Entropy is a measure of impurity or disorder in the data.\n",
        "    \"\"\"\n",
        "    target_col = data[:, -1]\n",
        "\n",
        "    _, counts = np.unique(target_col, return_counts=True)\n",
        "\n",
        "    probabilities = counts / len(target_col)\n",
        "\n",
        "    dataset_entropy = -np.sum(probabilities * np.log2(probabilities + 1e-9))\n",
        "\n",
        "    return dataset_entropy\n",
        "\n",
        "\n",
        "def get_avg_info_of_attribute(data, attribute):\n",
        "    \"\"\"\n",
        "    Calculates the average information (weighted entropy) for a specific attribute.\n",
        "    This tells us the average impurity remaining after splitting the data by this attribute.\n",
        "    \"\"\"\n",
        "    attribute_col = data[:, attribute]\n",
        "\n",
        "    unique_attribute_values = np.unique(attribute_col)\n",
        "\n",
        "    avg_info = 0.0\n",
        "\n",
        "    for value in unique_attribute_values:\n",
        "        subset_data = data[data[:, attribute] == value]\n",
        "\n",
        "        weight = len(subset_data) / len(data)\n",
        "\n",
        "        avg_info += weight * get_entropy_of_dataset(subset_data)\n",
        "\n",
        "    return avg_info\n",
        "\n",
        "\n",
        "def get_information_gain(data, attribute):\n",
        "    \"\"\"\n",
        "    Calculates the information gain for a given attribute.\n",
        "    Information gain measures how much the entropy is reduced by splitting on this attribute.\n",
        "    A higher information gain means a better feature for splitting.\n",
        "    \"\"\"\n",
        "    total_entropy = get_entropy_of_dataset(data)\n",
        "\n",
        "    avg_info_attribute = get_avg_info_of_attribute(data, attribute)\n",
        "\n",
        "    information_gain = total_entropy - avg_info_attribute\n",
        "\n",
        "    return information_gain\n",
        "\n",
        "\n",
        "def get_selected_attribute(data):\n",
        "    \"\"\"\n",
        "    Finds the best attribute to split on by selecting the one with the highest information gain.\n",
        "    \"\"\"\n",
        "    num_attributes = data.shape[1] - 1\n",
        "    information_gains = {}\n",
        "    selected_attribute = -1\n",
        "    max_gain = -1\n",
        "\n",
        "    for i in range(num_attributes):\n",
        "        gain = get_information_gain(data, i)\n",
        "        information_gains[i] = gain\n",
        "        if gain > max_gain:\n",
        "            max_gain = gain\n",
        "            selected_attribute = i\n",
        "\n",
        "    if max_gain <= 0:\n",
        "        selected_attribute = -1\n",
        "\n",
        "    return information_gains, selected_attribute\n",
        "\n",
        "\n",
        "\n",
        "# Decision Tree Definition\n",
        "\n",
        "class Node:\n",
        "\n",
        "    def __init__(self, feature_index=None, predicted_class=None):\n",
        "        self.feature_index = feature_index\n",
        "        self.children = {}\n",
        "        self.predicted_class = predicted_class\n",
        "\n",
        "    def is_leaf_node(self):\n",
        "        return self.predicted_class is not None\n",
        "\n",
        "class DecisionTree:\n",
        "\n",
        "    def __init__(self):\n",
        "        self.root = None\n",
        "\n",
        "    def fit(self, data):\n",
        "\n",
        "        self.root = self._build_tree(data)\n",
        "\n",
        "    def _build_tree(self, data):\n",
        "\n",
        "        target_col = data[:, -1]\n",
        "\n",
        "        if len(np.unique(target_col)) == 1:\n",
        "            return Node(predicted_class=target_col[0])\n",
        "\n",
        "        if data.shape[1] == 1:\n",
        "            unique_classes, counts = np.unique(target_col, return_counts=True)\n",
        "            majority_class = unique_classes[np.argmax(counts)]\n",
        "            return Node(predicted_class=majority_class)\n",
        "\n",
        "        _, best_feature_index = get_selected_attribute(data)\n",
        "\n",
        "        if best_feature_index == -1:\n",
        "            unique_classes, counts = np.unique(target_col, return_counts=True)\n",
        "            majority_class = unique_classes[np.argmax(counts)]\n",
        "            return Node(predicted_class=majority_class)\n",
        "\n",
        "        node = Node(feature_index=best_feature_index)\n",
        "\n",
        "        feature_values = np.unique(data[:, best_feature_index])\n",
        "\n",
        "        for value in feature_values:\n",
        "            subset_data = data[data[:, best_feature_index] == value]\n",
        "            subset_data_without_feature = np.delete(subset_data, best_feature_index, axis=1)\n",
        "\n",
        "            subtree = self._build_tree(subset_data_without_feature)\n",
        "            node.children[value] = subtree\n",
        "\n",
        "        return node\n",
        "\n",
        "    def predict(self, records):\n",
        "\n",
        "        predictions = [self._traverse_tree(record, self.root) for record in records]\n",
        "        return np.array(predictions)\n",
        "\n",
        "    def _traverse_tree(self, record, node):\n",
        "\n",
        "        if node.is_leaf_node():\n",
        "            return node.predicted_class\n",
        "\n",
        "        feature_value = record[node.feature_index]\n",
        "\n",
        "        if feature_value in node.children:\n",
        "            next_node = node.children[feature_value]\n",
        "            next_record = np.delete(record, node.feature_index)\n",
        "            return self._traverse_tree(next_record, next_node)\n",
        "        else:\n",
        "            return None"
      ]
    },
    {
      "cell_type": "code",
      "source": [
        "# To visualize the tree for the mushroom dataset\n",
        "!python test.py --ID PES_F_PES2UG23CS353_Lab3 --data mushrooms.csv"
      ],
      "metadata": {
        "colab": {
          "base_uri": "https://localhost:8080/"
        },
        "id": "GToWclulyyar",
        "outputId": "6a8a2586-e276-42f5-f8d5-cbcd584d24ff"
      },
      "execution_count": null,
      "outputs": [
        {
          "output_type": "stream",
          "name": "stdout",
          "text": [
            "Running tests with PYTORCH framework\n",
            "============================================================\n",
            " target column: 'class' (last column)\n",
            "Original dataset info:\n",
            "Shape: (8124, 23)\n",
            "Columns: ['cap-shape', 'cap-surface', 'cap-color', 'bruises', 'odor', 'gill-attachment', 'gill-spacing', 'gill-size', 'gill-color', 'stalk-shape', 'stalk-root', 'stalk-surface-above-ring', 'stalk-surface-below-ring', 'stalk-color-above-ring', 'stalk-color-below-ring', 'veil-type', 'veil-color', 'ring-number', 'ring-type', 'spore-print-color', 'population', 'habitat', 'class']\n",
            "\n",
            "First few rows:\n",
            "\n",
            "cap-shape: ['x' 'b' 's' 'f' 'k'] -> [5 0 4 2 3]\n",
            "\n",
            "cap-surface: ['s' 'y' 'f' 'g'] -> [2 3 0 1]\n",
            "\n",
            "cap-color: ['n' 'y' 'w' 'g' 'e'] -> [4 9 8 3 2]\n",
            "\n",
            "class: ['p' 'e'] -> [1 0]\n",
            "\n",
            "Processed dataset shape: torch.Size([8124, 23])\n",
            "Number of features: 22\n",
            "Features: ['cap-shape', 'cap-surface', 'cap-color', 'bruises', 'odor', 'gill-attachment', 'gill-spacing', 'gill-size', 'gill-color', 'stalk-shape', 'stalk-root', 'stalk-surface-above-ring', 'stalk-surface-below-ring', 'stalk-color-above-ring', 'stalk-color-below-ring', 'veil-type', 'veil-color', 'ring-number', 'ring-type', 'spore-print-color', 'population', 'habitat']\n",
            "Target: class\n",
            "Framework: PYTORCH\n",
            "Data type: <class 'torch.Tensor'>\n",
            "\n",
            "============================================================\n",
            "DECISION TREE CONSTRUCTION DEMO\n",
            "============================================================\n",
            "Total samples: 8124\n",
            "Training samples: 6499\n",
            "Testing samples: 1625\n",
            "\n",
            "Constructing decision tree using training data...\n",
            "\n",
            "🌳 Decision tree construction completed using PYTORCH!\n",
            "\n",
            "📊 OVERALL PERFORMANCE METRICS\n",
            "========================================\n",
            "Accuracy:             1.0000 (100.00%)\n",
            "Precision (weighted): 1.0000\n",
            "Recall (weighted):    1.0000\n",
            "F1-Score (weighted):  1.0000\n",
            "Precision (macro):    1.0000\n",
            "Recall (macro):       1.0000\n",
            "F1-Score (macro):     1.0000\n",
            "\n",
            "🌳 TREE COMPLEXITY METRICS\n",
            "========================================\n",
            "Maximum Depth:        4\n",
            "Total Nodes:          59\n",
            "Leaf Nodes:           46\n",
            "Internal Nodes:       13\n"
          ]
        }
      ]
    },
    {
      "cell_type": "code",
      "source": [
        "# Test with the Tic-Tac-Toe dataset\n",
        "!python test.py --ID PES_F_PES2UG23CS353_Lab3 --data tictactoe.csv"
      ],
      "metadata": {
        "colab": {
          "base_uri": "https://localhost:8080/"
        },
        "id": "IZv0KNhKzDda",
        "outputId": "8171f486-0373-4eb2-95e6-58ac54a1b8da"
      },
      "execution_count": null,
      "outputs": [
        {
          "output_type": "stream",
          "name": "stdout",
          "text": [
            "Running tests with PYTORCH framework\n",
            "============================================================\n",
            " target column: 'Class' (last column)\n",
            "Original dataset info:\n",
            "Shape: (958, 10)\n",
            "Columns: ['top-left-square', 'top-middle-square', 'top-right-square', 'middle-left-square', 'middle-middle-square', 'middle-right-square', 'bottom-left-square', 'bottom-middle-square', 'bottom-right-square', 'Class']\n",
            "\n",
            "First few rows:\n",
            "\n",
            "top-left-square: ['x' 'o' 'b'] -> [2 1 0]\n",
            "\n",
            "top-middle-square: ['x' 'o' 'b'] -> [2 1 0]\n",
            "\n",
            "top-right-square: ['x' 'o' 'b'] -> [2 1 0]\n",
            "\n",
            "Class: ['positive' 'negative'] -> [1 0]\n",
            "\n",
            "Processed dataset shape: torch.Size([958, 10])\n",
            "Number of features: 9\n",
            "Features: ['top-left-square', 'top-middle-square', 'top-right-square', 'middle-left-square', 'middle-middle-square', 'middle-right-square', 'bottom-left-square', 'bottom-middle-square', 'bottom-right-square']\n",
            "Target: Class\n",
            "Framework: PYTORCH\n",
            "Data type: <class 'torch.Tensor'>\n",
            "\n",
            "============================================================\n",
            "DECISION TREE CONSTRUCTION DEMO\n",
            "============================================================\n",
            "Total samples: 958\n",
            "Training samples: 766\n",
            "Testing samples: 192\n",
            "\n",
            "Constructing decision tree using training data...\n",
            "\n",
            "🌳 Decision tree construction completed using PYTORCH!\n",
            "\n",
            "📊 OVERALL PERFORMANCE METRICS\n",
            "========================================\n",
            "Accuracy:             0.8936 (89.36%)\n",
            "Precision (weighted): 0.8930\n",
            "Recall (weighted):    0.8936\n",
            "F1-Score (weighted):  0.8932\n",
            "Precision (macro):    0.8846\n",
            "Recall (macro):       0.8788\n",
            "F1-Score (macro):     0.8816\n",
            "\n",
            "🌳 TREE COMPLEXITY METRICS\n",
            "========================================\n",
            "Maximum Depth:        7\n",
            "Total Nodes:          306\n",
            "Leaf Nodes:           196\n",
            "Internal Nodes:       110\n"
          ]
        }
      ]
    },
    {
      "cell_type": "code",
      "source": [
        "# Test with the Nursery dataset\n",
        "!python test.py --ID PES_F_PES2UG23CS353_Lab3 --data Nursery.csv"
      ],
      "metadata": {
        "colab": {
          "base_uri": "https://localhost:8080/"
        },
        "id": "-tQTEygmzDbF",
        "outputId": "091325d5-109d-441d-fa12-1606e33ce86e"
      },
      "execution_count": null,
      "outputs": [
        {
          "output_type": "stream",
          "name": "stdout",
          "text": [
            "Running tests with PYTORCH framework\n",
            "============================================================\n",
            " target column: 'class' (last column)\n",
            "Original dataset info:\n",
            "Shape: (12960, 9)\n",
            "Columns: ['parents', 'has_nurs', 'form', 'children', 'housing', 'finance', 'social', 'health', 'class']\n",
            "\n",
            "First few rows:\n",
            "\n",
            "parents: ['usual' 'pretentious' 'great_pret'] -> [2 1 0]\n",
            "\n",
            "has_nurs: ['proper' 'less_proper' 'improper' 'critical' 'very_crit'] -> [3 2 1 0 4]\n",
            "\n",
            "form: ['complete' 'completed' 'incomplete' 'foster'] -> [0 1 3 2]\n",
            "\n",
            "class: ['recommend' 'priority' 'not_recom' 'very_recom' 'spec_prior'] -> [2 1 0 4 3]\n",
            "\n",
            "Processed dataset shape: torch.Size([12960, 9])\n",
            "Number of features: 8\n",
            "Features: ['parents', 'has_nurs', 'form', 'children', 'housing', 'finance', 'social', 'health']\n",
            "Target: class\n",
            "Framework: PYTORCH\n",
            "Data type: <class 'torch.Tensor'>\n",
            "\n",
            "============================================================\n",
            "DECISION TREE CONSTRUCTION DEMO\n",
            "============================================================\n",
            "Total samples: 12960\n",
            "Training samples: 10368\n",
            "Testing samples: 2592\n",
            "\n",
            "Constructing decision tree using training data...\n",
            "\n",
            "🌳 Decision tree construction completed using PYTORCH!\n",
            "\n",
            "📊 OVERALL PERFORMANCE METRICS\n",
            "========================================\n",
            "Accuracy:             0.9867 (98.67%)\n",
            "Precision (weighted): 0.9876\n",
            "Recall (weighted):    0.9867\n",
            "F1-Score (weighted):  0.9872\n",
            "Precision (macro):    0.7604\n",
            "Recall (macro):       0.7654\n",
            "F1-Score (macro):     0.7628\n",
            "\n",
            "🌳 TREE COMPLEXITY METRICS\n",
            "========================================\n",
            "Maximum Depth:        7\n",
            "Total Nodes:          992\n",
            "Leaf Nodes:           710\n",
            "Internal Nodes:       282\n"
          ]
        }
      ]
    },
    {
      "cell_type": "markdown",
      "source": [
        "# Analysis and Insights"
      ],
      "metadata": {
        "id": "lEZry6Im4NZF"
      }
    },
    {
      "cell_type": "markdown",
      "source": [
        "## Performance Comparison"
      ],
      "metadata": {
        "id": "DhzvhT5042DK"
      }
    },
    {
      "cell_type": "markdown",
      "source": [
        "### Accuracy: Overall classification accuracy"
      ],
      "metadata": {
        "id": "OfETfPbE47Pw"
      }
    },
    {
      "cell_type": "markdown",
      "source": [
        "\n",
        "\n",
        "* mushrooms.csv = 1.0000 (100.00%)\n",
        "* tictactoe.csv = 0.8936 (89.36%)\n",
        "* Nursery.csv = 0.9867 (98.67%)\n",
        "\n",
        "\n"
      ],
      "metadata": {
        "id": "MpTc_OIo5A-5"
      }
    },
    {
      "cell_type": "markdown",
      "source": [
        "### Precision: True positives / (True positives + False positives)"
      ],
      "metadata": {
        "id": "_uYDCHd65xC-"
      }
    },
    {
      "cell_type": "markdown",
      "source": [
        "**Weighted**\n",
        "* mushrooms.csv = 1.0000\n",
        "* tictactoe.csv = 0.8930\n",
        "* Nursery.csv = 0.9876\n",
        "\n",
        "**Macro**\n",
        "* mushrooms.csv = 1.0000\n",
        "* tictactoe.csv = 0.8846\n",
        "* Nursery.csv = 0.7604\n"
      ],
      "metadata": {
        "id": "XL0ZbiNe6kab"
      }
    },
    {
      "cell_type": "markdown",
      "source": [
        "### Recall: True positives / (True positives + False negatives)"
      ],
      "metadata": {
        "id": "cWQb8nDr7ItI"
      }
    },
    {
      "cell_type": "markdown",
      "source": [
        "**Weighted**\n",
        "* mushrooms.csv = 1.0000\n",
        "* tictactoe.csv = 0.8936\n",
        "* Nursery.csv = 0.9867\n",
        "\n",
        "**Macro**\n",
        "* mushrooms.csv = 1.0000\n",
        "* tictactoe.csv = 0.8846\n",
        "* Nursery.csv = 0.7654\n"
      ],
      "metadata": {
        "id": "K0PUPhvp7MuW"
      }
    },
    {
      "cell_type": "markdown",
      "source": [
        "### F1-Score: Harmonic mean of precision and recall"
      ],
      "metadata": {
        "id": "0PkPfRKT7lWb"
      }
    },
    {
      "cell_type": "markdown",
      "source": [
        "**Weighted**\n",
        "* mushrooms.csv = 1.0000\n",
        "* tictactoe.csv = 0.8932\n",
        "* Nursery.csv = 0.9872\n",
        "\n",
        "**Macro**\n",
        "* mushrooms.csv = 1.0000\n",
        "* tictactoe.csv = 0.8816\n",
        "* Nursery.csv = 0.7628\n"
      ],
      "metadata": {
        "id": "TL-kDmOh7rwR"
      }
    },
    {
      "cell_type": "markdown",
      "source": [
        "### **Insights**\n",
        "\n",
        "\n",
        "*   Mushrooms dataset is perfectly classified\n",
        "*   Nursery also performs extremely well in weighted metrics but macro metrics drop which implies that some classes are harder to predict for than others.\n",
        "*  Tic-Tac-Toe has the lowest performance which implies the patterns are harder to generalize.\n",
        "\n"
      ],
      "metadata": {
        "id": "uEZeVCYU712Z"
      }
    },
    {
      "cell_type": "markdown",
      "source": [
        "## Tree Characteristics Analysis"
      ],
      "metadata": {
        "id": "gMBQabJI8cMi"
      }
    },
    {
      "cell_type": "markdown",
      "source": [
        "###  Tree Depth: Maximum depth of the constructed trees"
      ],
      "metadata": {
        "id": "7yeuGDox8ou6"
      }
    },
    {
      "cell_type": "markdown",
      "source": [
        "\n",
        "* mushrooms.csv = 4\n",
        "* tictactoe.csv = 7\n",
        "* Nursery.csv = 7\n"
      ],
      "metadata": {
        "id": "_x0_jVhc8438"
      }
    },
    {
      "cell_type": "markdown",
      "source": [
        "### Number of Nodes: Total nodes in each tree"
      ],
      "metadata": {
        "id": "EGWBxnrZ9G_2"
      }
    },
    {
      "cell_type": "markdown",
      "source": [
        "* mushrooms.csv = 59\n",
        "* tictactoe.csv = 306\n",
        "* Nursery.csv = 992"
      ],
      "metadata": {
        "id": "dYxpj8by9LGo"
      }
    },
    {
      "cell_type": "markdown",
      "source": [
        "### Most Important Features: Attributes selected as root and early splits"
      ],
      "metadata": {
        "id": "rDu7vpHB9QPf"
      }
    },
    {
      "cell_type": "markdown",
      "source": [
        "* mushrooms.csv = 46\n",
        "* tictactoe.csv = 196\n",
        "* Nursery.csv = 710"
      ],
      "metadata": {
        "id": "mHkttzY59TzX"
      }
    },
    {
      "cell_type": "markdown",
      "source": [
        "### Tree Complexity: Relationship between tree size and dataset characteristics"
      ],
      "metadata": {
        "id": "PCXGCg889arS"
      }
    },
    {
      "cell_type": "markdown",
      "source": [
        "* mushrooms.csv = 13\n",
        "* tictactoe.csv = 110\n",
        "* Nursery.csv = 282"
      ],
      "metadata": {
        "id": "zDxNRlh59fDc"
      }
    },
    {
      "cell_type": "markdown",
      "source": [
        "### **Insights**\n",
        "\n",
        "\n",
        "*   Mushrooms: It is a very Simple and Shallow tree.\n",
        "\n",
        "*  Tic-Tac-Toe: It is a Deeper Tree with a larger size needed to capture the game logic.\n",
        "\n",
        "*  Nursery: It is a very large tree and naturally the  complexity increases with this dataset.\n",
        "\n"
      ],
      "metadata": {
        "id": "giFDpowM9mQ5"
      }
    },
    {
      "cell_type": "markdown",
      "source": [
        "## Dataset-Specific Insights"
      ],
      "metadata": {
        "id": "mijKLueh-gtd"
      }
    },
    {
      "cell_type": "markdown",
      "source": [
        "### Mushrooms"
      ],
      "metadata": {
        "id": "unrQhW2T-mKc"
      }
    },
    {
      "cell_type": "markdown",
      "source": [
        "* Feature Importance: (Odor, spore-print-color, bruises) dominate in comparison to other columns.\n",
        "\n",
        "* Class Distribution: Balanced.\n",
        "\n",
        "* Decision Patterns: Early splits around odor.\n",
        "\n",
        "* Overfitting Indicators: None since its a simple tree with perfect accuracy"
      ],
      "metadata": {
        "id": "Mv8Xog5M_cRM"
      }
    },
    {
      "cell_type": "markdown",
      "source": [
        "### Tic-Tac-Toe"
      ],
      "metadata": {
        "id": "-OTm161y_0-S"
      }
    },
    {
      "cell_type": "markdown",
      "source": [
        "* Feature Importance: Middle squares (middle-middle-square) dominate since central positions are most decisive.\n",
        "\n",
        "* Class Distribution: Balanced.\n",
        "\n",
        "* Decision Patterns: Requires multiple splits to capture win conditions.\n",
        "\n",
        "* Overfitting Indicators: Moderate tree depth; generalizes reasonably."
      ],
      "metadata": {
        "id": "SSJpEfoW_5_1"
      }
    },
    {
      "cell_type": "markdown",
      "source": [
        "### Nursery"
      ],
      "metadata": {
        "id": "8QlznKnwAN5_"
      }
    },
    {
      "cell_type": "markdown",
      "source": [
        "* Feature Importance:(Parents, has_nurs, form) are critical splits.\n",
        "\n",
        "* Class Distribution: Imbalanced -inferred from differing macro and weighted average values\n",
        "\n",
        "* Decision Patterns: Complex, with many deep splits.\n",
        "\n",
        "* Overfitting Indicators: overfitting minority classes."
      ],
      "metadata": {
        "id": "-pnQjKVXAQkZ"
      }
    },
    {
      "cell_type": "markdown",
      "source": [
        "## Comparative Analysis Report"
      ],
      "metadata": {
        "id": "dNghDU6aA5hO"
      }
    },
    {
      "cell_type": "markdown",
      "source": [
        "### Algorithm Performance"
      ],
      "metadata": {
        "id": "m3yVhyJGBEoq"
      }
    },
    {
      "cell_type": "markdown",
      "source": [
        "\n",
        "\n",
        "*   Highest Accuracy-Mushrooms because certain features directly map to desired output\n",
        "*   Nursery is the Largest dataset and it also gives us the most complex decision tree. So I conclude that dataset size is proportional to complexity(i.e larger the dataset more complex the decision tree).\n",
        "* More features imply more nodes\n",
        "\n"
      ],
      "metadata": {
        "id": "bTbIrX5qFssf"
      }
    },
    {
      "cell_type": "markdown",
      "source": [
        "### Data Characteristics Impact"
      ],
      "metadata": {
        "id": "O-ZDYUFIGgmn"
      }
    },
    {
      "cell_type": "markdown",
      "source": [
        "* We see that Nursery datset has a high class imbalance as inferred from the differing macro and weighted values of the dataset.It leads to more nodes being needed and an increased complexity.\n",
        "* Binary features as seen in Mushroom datatset lead to cleaner splits and since it gives us the most accuracy amongst all the dataset we infer that Binary is better than multi-values features.\n",
        "* Shallow trees are more interpretable than larger trees."
      ],
      "metadata": {
        "id": "XFWkRE1UGktm"
      }
    },
    {
      "cell_type": "markdown",
      "source": [
        "### Practical Applications\n"
      ],
      "metadata": {
        "id": "_m86E8nvIK7B"
      }
    },
    {
      "cell_type": "markdown",
      "source": [
        "\n",
        "\n",
        "*   Mushrooms datset could be used in medical,food safety applications\n",
        "*   Tic Tac Toe dataset could be used in reinforcement learning examples\n",
        "* Nursery dataset could be used in social policy and recommendation systems.\n",
        "\n",
        "\n"
      ],
      "metadata": {
        "id": "k8mbvHzaIQwv"
      }
    }
  ]
}
